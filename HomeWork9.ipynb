{
 "nbformat": 4,
 "nbformat_minor": 0,
 "metadata": {
  "colab": {
   "provenance": []
  },
  "kernelspec": {
   "name": "python3",
   "language": "python",
   "display_name": "Python 3 (ipykernel)"
  },
  "language_info": {
   "name": "python"
  }
 },
 "cells": [
  {
   "cell_type": "markdown",
   "source": [
    "**Задача №40:**\n",
    "Работать с файлом california_housing_train.csv, который находится в папке **sample_data**. Определить среднюю стоимость дома, где кол-во людей от 0 до 500 (population)"
   ],
   "metadata": {
    "id": "f5dKOhZHkp-J"
   }
  },
  {
   "cell_type": "code",
   "execution_count": 1,
   "metadata": {
    "id": "OB4PVXxeioPj",
    "ExecuteTime": {
     "start_time": "2023-04-14T02:53:00.814063Z",
     "end_time": "2023-04-14T02:53:01.481042Z"
    }
   },
   "outputs": [],
   "source": [
    "import pandas"
   ]
  },
  {
   "cell_type": "code",
   "source": [
    "df = pandas.read_csv('sample_data/california_housing_train.csv')"
   ],
   "metadata": {
    "id": "93yCLCscixuK"
   },
   "execution_count": null,
   "outputs": []
  },
  {
   "cell_type": "code",
   "source": [
    "df.head()"
   ],
   "metadata": {
    "colab": {
     "base_uri": "https://localhost:8080/",
     "height": 206
    },
    "id": "rGLlVAJUjs67",
    "outputId": "7570c2d0-a5b5-4070-d5a6-0e4a40708fde"
   },
   "execution_count": null,
   "outputs": []
  },
  {
   "cell_type": "code",
   "source": [
    "df[df['population'] <= 500]['median_house_value'].mean()"
   ],
   "metadata": {
    "colab": {
     "base_uri": "https://localhost:8080/"
    },
    "id": "w_v_Uqsmk5BS",
    "outputId": "02fad572-3f6a-4a5e-cee6-5b7de70ab79d"
   },
   "execution_count": null,
   "outputs": []
  },
  {
   "cell_type": "markdown",
   "source": [
    "**Задача 42:** Узнать какая максимальная households в зоне минимального значения population."
   ],
   "metadata": {
    "id": "PZCB_eZ8lGYi"
   }
  },
  {
   "cell_type": "code",
   "source": [
    "df[df['population'] == df['population'].min()]['households'].max()"
   ],
   "metadata": {
    "colab": {
     "base_uri": "https://localhost:8080/"
    },
    "id": "9RzUcYHNlLGQ",
    "outputId": "73e1eefc-6dfd-40a1-e962-11df61fff396"
   },
   "execution_count": null,
   "outputs": []
  }
 ]
}
